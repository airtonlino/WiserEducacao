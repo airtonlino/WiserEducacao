{
  "nbformat": 4,
  "nbformat_minor": 0,
  "metadata": {
    "colab": {
      "name": "WiserEducacao.ipynb",
      "provenance": [],
      "collapsed_sections": [],
      "toc_visible": true
    },
    "kernelspec": {
      "name": "python3",
      "display_name": "Python 3"
    }
  },
  "cells": [
    {
      "cell_type": "code",
      "metadata": {
        "id": "1sznEy_jXlsY"
      },
      "source": [
        "!python drive_list.py --noauth_local_webserver"
      ],
      "execution_count": null,
      "outputs": []
    },
    {
      "cell_type": "code",
      "metadata": {
        "id": "NXttHAIURw-P"
      },
      "source": [
        "import pandas as pd\r\n",
        "import json\r\n",
        "import csv\r\n",
        "import requests\r\n",
        "import io\r\n",
        "import shutil\r\n",
        "import os\r\n",
        "from pandas.io.json import json_normalize\r\n",
        "from googleapiclient.http import MediaIoBaseDownload\r\n",
        "from __future__ import print_function\r\n",
        "\r\n",
        "from googleapiclient import discovery\r\n",
        "from httplib2 import Http\r\n",
        "from oauth2client import file, client, tools\r\n",
        "\r\n",
        "SCOPES = 'https://www.googleapis.com/auth/drive'\r\n",
        "store = file.Storage('storage.json')\r\n",
        "creds = store.get()\r\n",
        "if not creds or creds.invalid:\r\n",
        "    flow = client.flow_from_clientsecrets('client_secret.json', SCOPES)\r\n",
        "    creds = tools.run_flow(flow, store)\r\n",
        "DRIVE = discovery.build('drive', 'v3', http=creds.authorize(Http()))\r\n",
        "\r\n",
        "files = DRIVE.files().list().execute().get('files', [])\r\n",
        "lista = []\r\n",
        "nomeArquivo = []\r\n",
        "for f in files:\r\n",
        "  fileName = f['name']\r\n",
        "  if 'acervo_' in fileName:\r\n",
        "    #lista.append(f['id'])\r\n",
        "    #nomeArquivo.append(f['name'])\r\n",
        "\r\n",
        "    file_id = f['id']\r\n",
        "    file_name = f['name']\r\n",
        "    caminho = '/content/'+file_name\r\n",
        "    caminhoCSV = caminho+'.csv'\r\n",
        "    caminhoCSV300 = caminho+'300'+'.csv'\r\n",
        "\r\n",
        "    if os.path.exists(caminho):\r\n",
        "      #Deleta arquivo se existir\r\n",
        "      os.remove(caminho)\r\n",
        "    if os.path.exists(caminhoCSV):\r\n",
        "      #Deleta arquivo se existir\r\n",
        "      os.remove(caminhoCSV)\r\n",
        "    if os.path.exists(caminhoCSV300):\r\n",
        "      #Deleta arquivo se existir\r\n",
        "      os.remove(caminhoCSV300)\r\n",
        "      \r\n",
        "    #Cria arquivo em branco\r\n",
        "    f = open(caminho, \"x\")\r\n",
        "    #Download do arquivo\r\n",
        "    request = DRIVE.files().get_media(fileId=file_id)\r\n",
        "    fh = io.BytesIO ()\r\n",
        "    downloader = MediaIoBaseDownload(fh, request)\r\n",
        "    done = False\r\n",
        "    while done is False:\r\n",
        "      status, done = downloader.next_chunk()\r\n",
        "    fh.seek(0)\r\n",
        "    with open(caminho, 'wb') as f:\r\n",
        "      shutil.copyfileobj(fh, f)\r\n",
        "\r\n",
        "    #Lê o arquivo JSON\r\n",
        "    registros = pd.read_json(caminho,typ='frame')\r\n",
        "    #Normaliza\r\n",
        "    registrosNormalizado = pd.json_normalize(registros['_default'])\r\n",
        "    #registrosNormalizado.head(2) \r\n",
        "    #Gera CSV \r\n",
        "    registrosNormalizado.to_csv(caminhoCSV,index=True)\r\n",
        "    #Gera CSV com as 300 primeiras linhas\r\n",
        "    trezentaslinhas = registrosNormalizado.head(300) \r\n",
        "    trezentaslinhas.to_csv(caminhoCSV300,index=True)\r\n"
      ],
      "execution_count": 3,
      "outputs": []
    }
  ]
}